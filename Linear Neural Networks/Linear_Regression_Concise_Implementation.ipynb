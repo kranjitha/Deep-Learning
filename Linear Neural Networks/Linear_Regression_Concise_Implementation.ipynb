{
  "nbformat": 4,
  "nbformat_minor": 0,
  "metadata": {
    "colab": {
      "name": "Linear Regression - Concise Implementation.ipynb",
      "provenance": []
    },
    "kernelspec": {
      "name": "python3",
      "display_name": "Python 3"
    },
    "accelerator": "GPU"
  },
  "cells": [
    {
      "cell_type": "markdown",
      "metadata": {
        "id": "kbv8qV0KVqJd",
        "colab_type": "text"
      },
      "source": [
        "## Summary \n",
        "\n",
        "\n",
        "1.  Set true weights and biases \n",
        "2.  Create synthetic data by adding normally distributed noise\n",
        "3.  Load data into gluon data loader\n",
        "4.  Create a model of Sequential type\n",
        "5.  Add a dense layer with one node on the output \n",
        "6.  Initialize the weights of the model to normal weights\n",
        "7.  Use L2Loss (Mean squared error) as the loss function\n",
        "8.  Set the trainer to the model parameters with Stocastic gradient descent as the optimizing algorithm\n",
        "9.  Set epochs and train your model \n",
        "\n"
      ]
    },
    {
      "cell_type": "code",
      "metadata": {
        "id": "E17utQrKLOZx",
        "colab_type": "code",
        "outputId": "4087cb35-73de-4180-d37b-4c37b693d1d3",
        "colab": {
          "base_uri": "https://localhost:8080/",
          "height": 306
        }
      },
      "source": [
        "!pip install mxnet-cu101mkl"
      ],
      "execution_count": 1,
      "outputs": [
        {
          "output_type": "stream",
          "text": [
            "Collecting mxnet-cu101mkl\n",
            "\u001b[?25l  Downloading https://files.pythonhosted.org/packages/77/aa/3bab75904a39935cc71b68bec100f51c9ff061d0244bcd68037a6d57aba4/mxnet_cu101mkl-1.5.1.post0-py2.py3-none-manylinux1_x86_64.whl (587.7MB)\n",
            "\u001b[K     |████████████████████████████████| 587.7MB 31kB/s \n",
            "\u001b[?25hCollecting graphviz<0.9.0,>=0.8.1\n",
            "  Downloading https://files.pythonhosted.org/packages/53/39/4ab213673844e0c004bed8a0781a0721a3f6bb23eb8854ee75c236428892/graphviz-0.8.4-py2.py3-none-any.whl\n",
            "Requirement already satisfied: numpy<2.0.0,>1.16.0 in /usr/local/lib/python3.6/dist-packages (from mxnet-cu101mkl) (1.17.4)\n",
            "Requirement already satisfied: requests<3,>=2.20.0 in /usr/local/lib/python3.6/dist-packages (from mxnet-cu101mkl) (2.21.0)\n",
            "Requirement already satisfied: chardet<3.1.0,>=3.0.2 in /usr/local/lib/python3.6/dist-packages (from requests<3,>=2.20.0->mxnet-cu101mkl) (3.0.4)\n",
            "Requirement already satisfied: certifi>=2017.4.17 in /usr/local/lib/python3.6/dist-packages (from requests<3,>=2.20.0->mxnet-cu101mkl) (2019.9.11)\n",
            "Requirement already satisfied: idna<2.9,>=2.5 in /usr/local/lib/python3.6/dist-packages (from requests<3,>=2.20.0->mxnet-cu101mkl) (2.8)\n",
            "Requirement already satisfied: urllib3<1.25,>=1.21.1 in /usr/local/lib/python3.6/dist-packages (from requests<3,>=2.20.0->mxnet-cu101mkl) (1.24.3)\n",
            "Installing collected packages: graphviz, mxnet-cu101mkl\n",
            "  Found existing installation: graphviz 0.10.1\n",
            "    Uninstalling graphviz-0.10.1:\n",
            "      Successfully uninstalled graphviz-0.10.1\n",
            "Successfully installed graphviz-0.8.4 mxnet-cu101mkl-1.5.1.post0\n"
          ],
          "name": "stdout"
        }
      ]
    },
    {
      "cell_type": "code",
      "metadata": {
        "id": "d7jrhfSqLbk2",
        "colab_type": "code",
        "colab": {}
      },
      "source": [
        "import mxnet as mx\n",
        "from mxnet import autograd, gluon\n",
        "from mxnet.gluon import nn\n",
        "mx.Context.default_ctx = mx.gpu(0)\n"
      ],
      "execution_count": 0,
      "outputs": []
    },
    {
      "cell_type": "code",
      "metadata": {
        "id": "POZqCQQPMcVE",
        "colab_type": "code",
        "colab": {}
      },
      "source": [
        "  def synthetic_data(w, b, size):\n",
        "    \"\"\"\n",
        "    weights: synethic_weight nd array\n",
        "\n",
        "    bias: fixed value \n",
        "\n",
        "    size: the size of data set we want to create\n",
        "\n",
        "    returns genearted data\n",
        "\n",
        "    \"\"\"\n",
        "\n",
        "    # Genearte X with normal distribution\n",
        "\n",
        "    X = mx.nd.normal(0,  0.1, (size, len(w)),\n",
        "                     ctx = mx.gpu())\n",
        "    \n",
        "    \n",
        "    y = mx.nd.dot(X, w) + b # add bias\n",
        "\n",
        "    #adding additional noise which is normally distribued centered at 0 and variance : 0.1\n",
        "\n",
        "    y = y + mx.nd.normal(0, 0.1, y.shape,\n",
        "                         ctx = mx.gpu()) \n",
        "\n",
        "    return X,y"
      ],
      "execution_count": 0,
      "outputs": []
    },
    {
      "cell_type": "code",
      "metadata": {
        "id": "FHpon50fMrv4",
        "colab_type": "code",
        "colab": {}
      },
      "source": [
        "true_w = mx.nd.array([2, -3.4], ctx = mx.gpu())\n",
        "true_b = 4.2\n",
        "features, labels = synthetic_data(true_w, true_b, 1000)"
      ],
      "execution_count": 0,
      "outputs": []
    },
    {
      "cell_type": "code",
      "metadata": {
        "id": "2yTu0UTcMwt_",
        "colab_type": "code",
        "colab": {}
      },
      "source": [
        "def load_array(data_arrays, batch_size, is_train=True):\n",
        "    \"\"\"Construct a Gluon data loader\"\"\"\n",
        "    dataset = gluon.data.ArrayDataset(*data_arrays)\n",
        "    return gluon.data.DataLoader(dataset, batch_size, shuffle=is_train)\n",
        "\n",
        "batch_size = 10\n",
        "data_iter = load_array((features, labels), batch_size)"
      ],
      "execution_count": 0,
      "outputs": []
    },
    {
      "cell_type": "code",
      "metadata": {
        "id": "w1COGM95OjeM",
        "colab_type": "code",
        "colab": {}
      },
      "source": [
        "net = nn.Sequential()"
      ],
      "execution_count": 0,
      "outputs": []
    },
    {
      "cell_type": "markdown",
      "metadata": {
        "id": "WIQv2YgvO3SA",
        "colab_type": "text"
      },
      "source": [
        "adding output layer - no need to specify input layer"
      ]
    },
    {
      "cell_type": "code",
      "metadata": {
        "id": "GnxXbceAOyci",
        "colab_type": "code",
        "colab": {}
      },
      "source": [
        "net.add(nn.Dense(1) )\n"
      ],
      "execution_count": 0,
      "outputs": []
    },
    {
      "cell_type": "markdown",
      "metadata": {
        "id": "c3Na-RImLl6J",
        "colab_type": "text"
      },
      "source": [
        "Initialize model parameters with normal distributed weights mean = 0 and sigma = 0.01"
      ]
    },
    {
      "cell_type": "code",
      "metadata": {
        "id": "x50UdfVJO2FL",
        "colab_type": "code",
        "colab": {}
      },
      "source": [
        "from mxnet import init\n",
        "net.initialize(init.Normal(sigma=0.01), ctx= mx.gpu())"
      ],
      "execution_count": 0,
      "outputs": []
    },
    {
      "cell_type": "markdown",
      "metadata": {
        "id": "uhcYwX4nLyN9",
        "colab_type": "text"
      },
      "source": [
        "L2 - mean squared eroor"
      ]
    },
    {
      "cell_type": "code",
      "metadata": {
        "id": "n7Ht8fIcLuR7",
        "colab_type": "code",
        "colab": {}
      },
      "source": [
        "from mxnet.gluon import loss as gloss\n",
        "loss = gloss.L2Loss()  "
      ],
      "execution_count": 0,
      "outputs": []
    },
    {
      "cell_type": "code",
      "metadata": {
        "id": "Ia_umGJ0NzVf",
        "colab_type": "code",
        "colab": {}
      },
      "source": [
        "trainer = gluon.Trainer(net.collect_params(), 'sgd', {'learning_rate': 0.03})"
      ],
      "execution_count": 0,
      "outputs": []
    },
    {
      "cell_type": "code",
      "metadata": {
        "id": "8OQ--4ZLL1nm",
        "colab_type": "code",
        "colab": {
          "base_uri": "https://localhost:8080/",
          "height": 67
        },
        "outputId": "2998056e-94cf-403e-a396-dba457988815"
      },
      "source": [
        "num_epochs = 3\n",
        "for epoch in range(1, num_epochs + 1):\n",
        "    for X, y in data_iter:\n",
        "        with autograd.record():\n",
        "            l = loss(net(X), y)\n",
        "        l.backward()\n",
        "        trainer.step(batch_size)\n",
        "    l = loss(net(features), labels)\n",
        "    print('epoch %d, loss: %f' % (epoch, l.mean().asnumpy()))"
      ],
      "execution_count": 27,
      "outputs": [
        {
          "output_type": "stream",
          "text": [
            "epoch 1, loss: 0.098309\n",
            "epoch 2, loss: 0.074716\n",
            "epoch 3, loss: 0.070594\n"
          ],
          "name": "stdout"
        }
      ]
    },
    {
      "cell_type": "markdown",
      "metadata": {
        "id": "cPP_JiziQT3X",
        "colab_type": "text"
      },
      "source": [
        "Look up ones_like and autograd on the MXNet website."
      ]
    },
    {
      "cell_type": "markdown",
      "metadata": {
        "id": "QCM8uk3vQeYt",
        "colab_type": "text"
      },
      "source": [
        "ones_like: returns the ones in the same dimesions as input array\n",
        "autograd: "
      ]
    },
    {
      "cell_type": "markdown",
      "metadata": {
        "id": "UqWrDsj1RzkH",
        "colab_type": "text"
      },
      "source": [
        "What are all the possible outputs after running np.random.choice(4, 2)?"
      ]
    },
    {
      "cell_type": "code",
      "metadata": {
        "id": "iyiob6QXMkzx",
        "colab_type": "code",
        "colab": {
          "base_uri": "https://localhost:8080/",
          "height": 67
        },
        "outputId": "5029df09-cc77-4129-e280-00eaac581831"
      },
      "source": [
        "mx.nd.random.randint(0, 4, (1,2))"
      ],
      "execution_count": 39,
      "outputs": [
        {
          "output_type": "execute_result",
          "data": {
            "text/plain": [
              "\n",
              "[[2 3]]\n",
              "<NDArray 1x2 @gpu(0)>"
            ]
          },
          "metadata": {
            "tags": []
          },
          "execution_count": 39
        }
      ]
    },
    {
      "cell_type": "code",
      "metadata": {
        "id": "ywTdjzJnR-Kd",
        "colab_type": "code",
        "colab": {}
      },
      "source": [
        ""
      ],
      "execution_count": 0,
      "outputs": []
    }
  ]
}