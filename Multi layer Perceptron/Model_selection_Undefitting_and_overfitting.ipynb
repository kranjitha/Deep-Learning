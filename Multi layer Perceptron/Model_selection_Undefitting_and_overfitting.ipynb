{
  "nbformat": 4,
  "nbformat_minor": 0,
  "metadata": {
    "colab": {
      "name": "Model selection Undefitting and overfitting.ipynb",
      "provenance": [],
      "collapsed_sections": []
    },
    "kernelspec": {
      "name": "python3",
      "display_name": "Python 3"
    }
  },
  "cells": [
    {
      "cell_type": "code",
      "metadata": {
        "id": "QE78WMU2v8g0",
        "colab_type": "code",
        "outputId": "48f6846b-e3f4-4ef3-9efd-7c6384577e8d",
        "colab": {
          "base_uri": "https://localhost:8080/",
          "height": 150
        }
      },
      "source": [
        "!pip install mxnet-cu101mkl"
      ],
      "execution_count": 115,
      "outputs": [
        {
          "output_type": "stream",
          "text": [
            "Requirement already satisfied: mxnet-cu101mkl in /usr/local/lib/python3.6/dist-packages (1.5.1.post0)\n",
            "Requirement already satisfied: graphviz<0.9.0,>=0.8.1 in /usr/local/lib/python3.6/dist-packages (from mxnet-cu101mkl) (0.8.4)\n",
            "Requirement already satisfied: requests<3,>=2.20.0 in /usr/local/lib/python3.6/dist-packages (from mxnet-cu101mkl) (2.21.0)\n",
            "Requirement already satisfied: numpy<2.0.0,>1.16.0 in /usr/local/lib/python3.6/dist-packages (from mxnet-cu101mkl) (1.17.4)\n",
            "Requirement already satisfied: urllib3<1.25,>=1.21.1 in /usr/local/lib/python3.6/dist-packages (from requests<3,>=2.20.0->mxnet-cu101mkl) (1.24.3)\n",
            "Requirement already satisfied: certifi>=2017.4.17 in /usr/local/lib/python3.6/dist-packages (from requests<3,>=2.20.0->mxnet-cu101mkl) (2019.11.28)\n",
            "Requirement already satisfied: chardet<3.1.0,>=3.0.2 in /usr/local/lib/python3.6/dist-packages (from requests<3,>=2.20.0->mxnet-cu101mkl) (3.0.4)\n",
            "Requirement already satisfied: idna<2.9,>=2.5 in /usr/local/lib/python3.6/dist-packages (from requests<3,>=2.20.0->mxnet-cu101mkl) (2.8)\n"
          ],
          "name": "stdout"
        }
      ]
    },
    {
      "cell_type": "code",
      "metadata": {
        "id": "FTk64CC3wNDt",
        "colab_type": "code",
        "colab": {}
      },
      "source": [
        "import mxnet as mx\n",
        "from mxnet.gluon import nn\n",
        "from mxnet import autograd"
      ],
      "execution_count": 0,
      "outputs": []
    },
    {
      "cell_type": "code",
      "metadata": {
        "id": "NXErrK3o2Rna",
        "colab_type": "code",
        "colab": {}
      },
      "source": [
        "num_test = 100\n",
        "num_train = 100\n",
        "max_degree = 20\n",
        "true_weights = mx.nd.zeros((max_degree))\n",
        "true_weights[0:4] = [5, 1.2, -3.4, 5.6]\n",
        "\n",
        "features = mx.nd.random.normal(0, 0.1, ((num_test + num_train), 1))\n",
        "poly_features = mx.nd.power(features, mx.nd.arange(0, max_degree).reshape(1, -1))\n",
        "poly_features = poly_features / (\n",
        "    mx.nd.gamma(mx.nd.arange(max_degree) + 1).reshape(1, -1))\n",
        "labels = mx.nd.dot(poly_features, true_weights)\n",
        "labels += mx.nd.random.normal(0, 0.1, labels.shape)\n",
        "\n",
        "\n"
      ],
      "execution_count": 0,
      "outputs": []
    },
    {
      "cell_type": "code",
      "metadata": {
        "id": "44wrBVpwViFD",
        "colab_type": "code",
        "colab": {}
      },
      "source": [
        "a = [0]*2"
      ],
      "execution_count": 0,
      "outputs": []
    },
    {
      "cell_type": "code",
      "metadata": {
        "id": "RFk7l12MVkcX",
        "colab_type": "code",
        "outputId": "e88b6b6e-90f3-48bc-9702-85d8a79ac53e",
        "colab": {
          "base_uri": "https://localhost:8080/",
          "height": 33
        }
      },
      "source": [
        "a"
      ],
      "execution_count": 119,
      "outputs": [
        {
          "output_type": "execute_result",
          "data": {
            "text/plain": [
              "[0, 0]"
            ]
          },
          "metadata": {
            "tags": []
          },
          "execution_count": 119
        }
      ]
    },
    {
      "cell_type": "code",
      "metadata": {
        "id": "Lyp4t3AfVlCz",
        "colab_type": "code",
        "colab": {}
      },
      "source": [
        "a = [x + y for x, y in zip(a, [1,2])]"
      ],
      "execution_count": 0,
      "outputs": []
    },
    {
      "cell_type": "code",
      "metadata": {
        "id": "xRsp22hEaXHc",
        "colab_type": "code",
        "colab": {}
      },
      "source": [
        "class Accumulator():\n",
        "\n",
        "  def __init__(self, size):\n",
        "\n",
        "    self.n = size\n",
        "\n",
        "    self.data = [0] * self.n\n",
        "\n",
        "  def add(self, *args):\n",
        "\n",
        "    self.data = [x + y for x,y in zip(self.data, args)]\n",
        "\n",
        "  def reset(self):\n",
        "    self.data = [0] * self.n\n",
        "\n",
        "  def __getitem__(self, i):\n",
        "\n",
        "    if type(self.data[i]) == int:\n",
        "      return self.data[i]\n",
        "\n",
        "    return self.data[i].astype(float)[0]"
      ],
      "execution_count": 0,
      "outputs": []
    },
    {
      "cell_type": "code",
      "metadata": {
        "id": "cmRNULlfaYr6",
        "colab_type": "code",
        "colab": {}
      },
      "source": [
        "from IPython import display\n",
        "import seaborn as sns\n",
        "import matplotlib.pyplot as plt\n",
        "\n",
        "class Animator:\n",
        "\n",
        "  def __init__(self , x, y, title, labels, range, figsize, xlabel, ylabel ):\n",
        "\n",
        "    self.x = x\n",
        "    self.y = y\n",
        "    self.title = title\n",
        "    self.labels = labels\n",
        "    self.xlabel = xlabel\n",
        "    self.ylabel = ylabel\n",
        "    self.range = range\n",
        "    self.figsize = figsize\n",
        "\n",
        "\n",
        "\n",
        "  def add_to_plot(self, x, y):\n",
        "\n",
        "    \"\"\"\n",
        "    x : list of data points you want to add to x axis dimension : n\n",
        "    y: list of lists where each list has a dimension n (n is the number of individual line plots)\n",
        "    \"\"\"\n",
        "    # print(\"Hi\")\n",
        "    self.x = self.x + x\n",
        "    for i, yi in enumerate(self.y):\n",
        "      yi[:] = yi + y[i]\n",
        "    \n",
        "\n",
        "  \n",
        "\n",
        "    sns.set_style(\"darkgrid\")\n",
        "\n",
        "    for i,j in enumerate(self.y):\n",
        "      print(j)\n",
        "      plt.legend().remove()\n",
        "      plt.plot(self.x,j, label = self.labels[i])\n",
        "    plt.legend()\n",
        "    plt.title(self.title)\n",
        "    plt.xlabel(self.xlabel)\n",
        "    plt.ylabel(self.ylabel)\n",
        "\n",
        "    \n",
        "    display.clear_output(wait=True)\n",
        "    plt.show()\n",
        "\n",
        "\n",
        "    display.display(plt)\n",
        "    "
      ],
      "execution_count": 0,
      "outputs": []
    },
    {
      "cell_type": "code",
      "metadata": {
        "id": "900ScVMDX-uJ",
        "colab_type": "code",
        "colab": {}
      },
      "source": [
        "def evaluate_loss(net, data_iter1, loss):\n",
        "\n",
        "  metric1  = Accumulator(2)\n",
        "\n",
        "  for X,y in data_iter1:\n",
        "\n",
        "    metric1.add(loss(net(X), y).sum(), y.size)\n",
        "  # print(metric1[0]/metric1[1])\n",
        "  return metric1[0]/metric1[1]\n",
        "\n",
        "    "
      ],
      "execution_count": 0,
      "outputs": []
    },
    {
      "cell_type": "code",
      "metadata": {
        "id": "Jtk50gcjkmo1",
        "colab_type": "code",
        "colab": {}
      },
      "source": [
        "  def data_iter(batch_size, features, labels):\n",
        "\n",
        "    \"\"\"\n",
        "    batch_size:  min batch size\n",
        "\n",
        "    features: X matrix\n",
        "\n",
        "    labels: y\n",
        "\n",
        "    returns: X,y pairs  in mini batches \n",
        "    \"\"\"\n",
        "\n",
        "    num_examples = len(features)\n",
        "    indices = list(range(num_examples))\n",
        "    random.shuffle(indices) # shuffle indices to pick randomly for each batch\n",
        "    batch_indcies = mx.nd.array([])\n",
        "\n",
        "\n",
        "    #  create batches of batch_size  \n",
        "    for i in range(0, num_examples, batch_size):\n",
        "\n",
        "      batch_indices = mx.nd.array( indices[i: min(i+batch_size, num_examples)])\n",
        "\n",
        "      yield features[batch_indices], labels[batch_indices]"
      ],
      "execution_count": 0,
      "outputs": []
    },
    {
      "cell_type": "code",
      "metadata": {
        "id": "IT3MB6ttZFer",
        "colab_type": "code",
        "colab": {}
      },
      "source": [
        "def train(train_features, test_features, train_labels, test_labels, num_epochs = 1000):\n",
        "\n",
        "\n",
        "  net = nn.Sequential()\n",
        "  net.add(nn.Dense(1, use_bias=False))\n",
        "  net.initialize()\n",
        "  loss = mx.gluon.loss.L2Loss()\n",
        "  batch_size = min(10, train_labels.shape[0])\n",
        "  train_iter = list(data_iter(batch_size, train_features, train_labels))\n",
        "  test_iter = list(data_iter(batch_size,test_features, test_labels))\n",
        "\n",
        "  trainer = gluon.Trainer(net.collect_params(), 'sgd', {'learning_rate': 0.01})\n",
        "\n",
        "  animator = Animator([],[[],[]], \"Performance metrics\", [\"train loss\", \"test loss\"], (3,4), (3,4), \"epoch\", \"value\")\n",
        "  \n",
        "  loss_epoch = []\n",
        "  for epoch in range(1, num_epochs+1):\n",
        "    loss_epoch.append(train_epoch_ch3(net, train_iter, loss, trainer))\n",
        "\n",
        "    if epoch % 50 == 0:\n",
        "              \n",
        "        animator.add_to_plot([epoch], [[evaluate_loss(net, train_iter, loss).asnumpy()[0]],\n",
        "                            [evaluate_loss(net, test_iter, loss).asnumpy()[0]]])\n",
        "  print('weight:', net[0].weight.data().asnumpy())\n"
      ],
      "execution_count": 0,
      "outputs": []
    },
    {
      "cell_type": "code",
      "metadata": {
        "id": "Fwb8gsE4nnX-",
        "colab_type": "code",
        "colab": {}
      },
      "source": [
        "from IPython.core.debugger import set_trace\n",
        "def train_epoch_ch3(net, train_iter1, loss, updater):\n",
        "\n",
        "    \n",
        "    metric = Accumulator(2)\n",
        "    \n",
        "      # train_loss_sum, train_acc_sum, num_examples\n",
        "    if isinstance(updater, gluon.Trainer):\n",
        "        updater = updater.step\n",
        "    count = 0\n",
        "\n",
        "    for X, y in train_iter1:\n",
        "  \n",
        "        count = count+1\n",
        "        # Compute gradients and update parameters\n",
        "        with autograd.record():\n",
        "            y_hat = net(X)\n",
        "            l = loss(y_hat, y)\n",
        "        l.backward()\n",
        "        updater(X.shape[0])\n",
        "        \n",
        "        metric.add(l.sum()[0].asnumpy(), y.size)\n",
        "        \n",
        "    # Return training loss and training accuracy\n",
        "    #set_trace()\n",
        "\n",
        "    temp = metric[0] / metric[1]\n",
        "\n",
        "    metric.reset()\n",
        "\n",
        "    return temp\n",
        "\n",
        "\n"
      ],
      "execution_count": 0,
      "outputs": []
    },
    {
      "cell_type": "code",
      "metadata": {
        "id": "U29wBojyojEr",
        "colab_type": "code",
        "outputId": "8740cc6a-2f8e-41c2-8842-e5fbbcff46b9",
        "colab": {
          "base_uri": "https://localhost:8080/",
          "height": 329
        }
      },
      "source": [
        "from mxnet import gluon\n",
        "import random\n",
        "train(poly_features[:num_train, 0:4], poly_features[num_train:, 0:4],\n",
        "      labels[:num_train], labels[num_train:], 1000)"
      ],
      "execution_count": 133,
      "outputs": [
        {
          "output_type": "display_data",
          "data": {
            "image/png": "[encoded data removed]",
            "text/plain": [
              "<Figure size 432x288 with 1 Axes>"
            ]
          },
          "metadata": {
            "tags": []
          }
        },
        {
          "output_type": "display_data",
          "data": {
            "text/plain": [
              "<module 'matplotlib.pyplot' from '/usr/local/lib/python3.6/dist-packages/matplotlib/pyplot.py'>"
            ]
          },
          "metadata": {
            "tags": []
          }
        },
        {
          "output_type": "stream",
          "text": [
            "weight: [[ 4.9913235   0.7049002  -0.03069093  0.05178758]]\n"
          ],
          "name": "stdout"
        }
      ]
    },
    {
      "cell_type": "code",
      "metadata": {
        "id": "QpWp-x_iefp9",
        "colab_type": "code",
        "colab": {
          "base_uri": "https://localhost:8080/",
          "height": 329
        },
        "outputId": "685cfa00-2cb2-4c4a-820c-cdabfedb3fd9"
      },
      "source": [
        "train(poly_features[:num_train, 0:2], poly_features[num_train:, 0:2],\n",
        "      labels[:num_train], labels[num_train:], 1000)"
      ],
      "execution_count": 131,
      "outputs": [
        {
          "output_type": "display_data",
          "data": {
            "image/png": "[encoded data removed]",
            "text/plain": [
              "<Figure size 432x288 with 1 Axes>"
            ]
          },
          "metadata": {
            "tags": []
          }
        },
        {
          "output_type": "display_data",
          "data": {
            "text/plain": [
              "<module 'matplotlib.pyplot' from '/usr/local/lib/python3.6/dist-packages/matplotlib/pyplot.py'>"
            ]
          },
          "metadata": {
            "tags": []
          }
        },
        {
          "output_type": "stream",
          "text": [
            "weight: [[4.991713   0.70054203]]\n"
          ],
          "name": "stdout"
        }
      ]
    },
    {
      "cell_type": "code",
      "metadata": {
        "id": "vnHPqbTdUole",
        "colab_type": "code",
        "colab": {
          "base_uri": "https://localhost:8080/",
          "height": 379
        },
        "outputId": "b1bd3cda-a582-493d-c076-436999af2c3b"
      },
      "source": [
        "n_subset = 100  # Subset of data to train on\n",
        "n_degree = 20  # Degree of polynomials\n",
        "n_train = n_test = 100\n",
        "train(poly_features[1:n_subset, 0:n_degree],\n",
        "      poly_features[n_train:, 0:n_degree], labels[1:n_subset],\n",
        "      labels[n_train:])"
      ],
      "execution_count": 135,
      "outputs": [
        {
          "output_type": "display_data",
          "data": {
            "image/png": "[encoded data removed]",
            "text/plain": [
              "<Figure size 432x288 with 1 Axes>"
            ]
          },
          "metadata": {
            "tags": []
          }
        },
        {
          "output_type": "display_data",
          "data": {
            "text/plain": [
              "<module 'matplotlib.pyplot' from '/usr/local/lib/python3.6/dist-packages/matplotlib/pyplot.py'>"
            ]
          },
          "metadata": {
            "tags": []
          }
        },
        {
          "output_type": "stream",
          "text": [
            "weight: [[ 4.991715    0.6728044   0.00586065  0.04905009  0.05981563  0.03066232\n",
            "   0.05136054 -0.02472883  0.04426111  0.02445559  0.05760313  0.02424668\n",
            "  -0.0313128   0.04232981 -0.0182667  -0.06999152 -0.01681485  0.02060939\n",
            "   0.00846308  0.02420449]]\n"
          ],
          "name": "stdout"
        }
      ]
    },
    {
      "cell_type": "code",
      "metadata": {
        "id": "yZuXN7BmVjHq",
        "colab_type": "code",
        "colab": {}
      },
      "source": [
        ""
      ],
      "execution_count": 0,
      "outputs": []
    }
  ]
}