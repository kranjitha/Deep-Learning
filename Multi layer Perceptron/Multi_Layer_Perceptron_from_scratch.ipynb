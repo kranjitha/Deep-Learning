{
  "nbformat": 4,
  "nbformat_minor": 0,
  "metadata": {
    "colab": {
      "name": "Multi Layer Perceptron from scratch.ipynb",
      "provenance": []
    },
    "kernelspec": {
      "name": "python3",
      "display_name": "Python 3"
    }
  },
  "cells": [
    {
      "cell_type": "code",
      "metadata": {
        "id": "38IKyaLxcvMh",
        "colab_type": "code",
        "outputId": "b565d38f-4a4e-4951-9771-a087e3546fe5",
        "colab": {
          "base_uri": "https://localhost:8080/",
          "height": 150
        }
      },
      "source": [
        "!pip install mxnet-cu101mkl"
      ],
      "execution_count": 1,
      "outputs": [
        {
          "output_type": "stream",
          "text": [
            "Requirement already satisfied: mxnet-cu101mkl in /usr/local/lib/python3.6/dist-packages (1.5.1.post0)\n",
            "Requirement already satisfied: graphviz<0.9.0,>=0.8.1 in /usr/local/lib/python3.6/dist-packages (from mxnet-cu101mkl) (0.8.4)\n",
            "Requirement already satisfied: requests<3,>=2.20.0 in /usr/local/lib/python3.6/dist-packages (from mxnet-cu101mkl) (2.21.0)\n",
            "Requirement already satisfied: numpy<2.0.0,>1.16.0 in /usr/local/lib/python3.6/dist-packages (from mxnet-cu101mkl) (1.17.4)\n",
            "Requirement already satisfied: chardet<3.1.0,>=3.0.2 in /usr/local/lib/python3.6/dist-packages (from requests<3,>=2.20.0->mxnet-cu101mkl) (3.0.4)\n",
            "Requirement already satisfied: certifi>=2017.4.17 in /usr/local/lib/python3.6/dist-packages (from requests<3,>=2.20.0->mxnet-cu101mkl) (2019.11.28)\n",
            "Requirement already satisfied: idna<2.9,>=2.5 in /usr/local/lib/python3.6/dist-packages (from requests<3,>=2.20.0->mxnet-cu101mkl) (2.8)\n",
            "Requirement already satisfied: urllib3<1.25,>=1.21.1 in /usr/local/lib/python3.6/dist-packages (from requests<3,>=2.20.0->mxnet-cu101mkl) (1.24.3)\n"
          ],
          "name": "stdout"
        }
      ]
    },
    {
      "cell_type": "markdown",
      "metadata": {
        "id": "KcXKFNJjjBJl",
        "colab_type": "text"
      },
      "source": [
        "### Input layer : 784 nodes, hidden : 256 and output : 10\n",
        "\n",
        "Initialize with normal weights and biases"
      ]
    },
    {
      "cell_type": "code",
      "metadata": {
        "id": "sc-b4HujeQac",
        "colab_type": "code",
        "colab": {}
      },
      "source": [
        "import mxnet as mx\n",
        "from mxnet import gluon\n",
        "\n",
        "num_inputs = 784\n",
        "num_outputs = 10\n",
        "hidden = 256\n",
        "\n",
        "w1 = mx.random.normal(0, 0.01, (num_inputs, hidden))\n",
        "w2 = mx.random.normal(0, 0.01, (hidden, num_outputs))\n",
        "b1 = mx.random.normal(0, 0.01, (hidden))\n",
        "b2 = mx.random.normal(0, 0.01, (num_outputs))"
      ],
      "execution_count": 0,
      "outputs": []
    },
    {
      "cell_type": "markdown",
      "metadata": {
        "id": "R1qxUS1GjPYO",
        "colab_type": "text"
      },
      "source": [
        "### Rectified Linear Unit as Activation function"
      ]
    },
    {
      "cell_type": "code",
      "metadata": {
        "id": "JzXil4OEfj9L",
        "colab_type": "code",
        "colab": {}
      },
      "source": [
        "def relu(X):\n",
        "\n",
        "  return mx.nd.maximum(X, 0)"
      ],
      "execution_count": 0,
      "outputs": []
    },
    {
      "cell_type": "markdown",
      "metadata": {
        "id": "eqYAnTzajWo3",
        "colab_type": "text"
      },
      "source": [
        "Net with one hidden layer"
      ]
    },
    {
      "cell_type": "code",
      "metadata": {
        "id": "h9dy_BUGfr9q",
        "colab_type": "code",
        "colab": {}
      },
      "source": [
        "def net(X):\n",
        "\n",
        "  X = X.reshape((-1, num_inputs))\n",
        "  h = mx.nd.relu(mx.nd.dot(X, w1) + b1)\n",
        "\n",
        "  return mx.nd.dot(h,w2) + b2"
      ],
      "execution_count": 0,
      "outputs": []
    },
    {
      "cell_type": "code",
      "metadata": {
        "id": "wuXQtux8gOWV",
        "colab_type": "code",
        "colab": {}
      },
      "source": [
        "# def loss(y_hat, y):\n",
        "#     return - mx.nd.log(y_hat[mx.nd.arange(len(y_hat)), y])"
      ],
      "execution_count": 0,
      "outputs": []
    },
    {
      "cell_type": "markdown",
      "metadata": {
        "id": "L4AKzkd1jc6Q",
        "colab_type": "text"
      },
      "source": [
        "### SoftMax cross entropy loss\n"
      ]
    },
    {
      "cell_type": "code",
      "metadata": {
        "id": "dr6xhb7PaCj6",
        "colab_type": "code",
        "colab": {}
      },
      "source": [
        "loss = mx.gluon.loss.SoftmaxCrossEntropyLoss()"
      ],
      "execution_count": 0,
      "outputs": []
    },
    {
      "cell_type": "code",
      "metadata": {
        "id": "cIjiw0WdgZhN",
        "colab_type": "code",
        "colab": {}
      },
      "source": [
        "params = [w1, b1, w2, b2]"
      ],
      "execution_count": 0,
      "outputs": []
    },
    {
      "cell_type": "code",
      "metadata": {
        "id": "ieQWhQjgg_FV",
        "colab_type": "code",
        "colab": {}
      },
      "source": [
        "for param in params:\n",
        "  param.attach_grad()"
      ],
      "execution_count": 0,
      "outputs": []
    },
    {
      "cell_type": "markdown",
      "metadata": {
        "id": "OXV1VXjOjjIm",
        "colab_type": "text"
      },
      "source": [
        "### Train epoch\n"
      ]
    },
    {
      "cell_type": "code",
      "metadata": {
        "id": "DufS3AhBhG4e",
        "colab_type": "code",
        "colab": {}
      },
      "source": [
        "def train(net, train_iter, loss, updater ):\n",
        "\n",
        "  metric = Accumulator(3)\n",
        "\n",
        "\n",
        "  \n",
        "\n",
        "  for X,y in train_iter:\n",
        "\n",
        "\n",
        "\n",
        "\n",
        "    with mx.autograd.record():\n",
        "\n",
        "      y_hat = net(X)\n",
        "      l = loss(y_hat, y)\n",
        "\n",
        "    l.backward()\n",
        "\n",
        "    updater(X.shape[0], lr, params)\n",
        "\n",
        "    metric.add([l.sum().astype(float), accuracy(y_hat, y).astype(float), y.size] )\n",
        "  # print(\"hi\")\n",
        "  # print(metric.data)\n",
        "\n",
        "  return metric[0]/metric[2] , metric[1] / metric[2]\n",
        "\n",
        "\n"
      ],
      "execution_count": 0,
      "outputs": []
    },
    {
      "cell_type": "code",
      "metadata": {
        "id": "TYKwVb79ku_H",
        "colab_type": "code",
        "colab": {}
      },
      "source": [
        "class Accumulator():\n",
        "\n",
        "  def __init__(self, size):\n",
        "\n",
        "    self.n = size\n",
        "\n",
        "    self.data = [0] * self.n\n",
        "\n",
        "  def add(self, data):\n",
        "\n",
        "    self.data = [x + y for x,y in zip(data, self.data)]\n",
        "\n",
        "  def __getitem__(self, i):\n",
        "\n",
        "    if type(self.data[i]) == int:\n",
        "      return self.data[i]\n",
        "\n",
        "    return self.data[i].astype(float)[0]"
      ],
      "execution_count": 0,
      "outputs": []
    },
    {
      "cell_type": "markdown",
      "metadata": {
        "id": "o1Dex8aLjpyj",
        "colab_type": "text"
      },
      "source": [
        "### Plot training progress"
      ]
    },
    {
      "cell_type": "code",
      "metadata": {
        "id": "lYhZ9SJonKiH",
        "colab_type": "code",
        "colab": {}
      },
      "source": [
        "from IPython import display\n",
        "import seaborn as sns\n",
        "import matplotlib.pyplot as plt\n",
        "\n",
        "class Animator:\n",
        "\n",
        "  def __init__(self , x, y, title, labels, range, figsize, xlabel, ylabel ):\n",
        "\n",
        "    self.x = x\n",
        "    self.y = y\n",
        "    self.title = title\n",
        "    self.labels = labels\n",
        "    self.xlabel = xlabel\n",
        "    self.ylabel = ylabel\n",
        "    self.range = range\n",
        "    self.figsize = figsize\n",
        "\n",
        "\n",
        "\n",
        "  def add_to_plot(self, x, y):\n",
        "\n",
        "    \"\"\"\n",
        "    x : list of data points you want to add to x axis dimension : n\n",
        "    y: list of lists where each list has a dimension n (n is the number of individual line plots)\n",
        "    \"\"\"\n",
        "    # print(\"Hi\")\n",
        "    self.x = self.x + x\n",
        "    for i, yi in enumerate(self.y):\n",
        "      yi[:] = yi + y[i]\n",
        "    \n",
        "\n",
        "  \n",
        "\n",
        "    sns.set_style(\"darkgrid\")\n",
        "\n",
        "    for i,j in enumerate(self.y):\n",
        "      print(j)\n",
        "      plt.legend().remove()\n",
        "      plt.plot(self.x,j, label = self.labels[i])\n",
        "    plt.legend()\n",
        "    plt.title(self.title)\n",
        "    plt.xlabel(self.xlabel)\n",
        "    plt.ylabel(self.ylabel)\n",
        "    plt.show()\n",
        "    \n",
        "    \n",
        "    display.display(plt)\n",
        "    display.clear_output(wait=True)\n",
        "    \n",
        "\n",
        "    \n",
        "    \n",
        "    \n",
        "    \n",
        "\n",
        "\n",
        "\n",
        "  \n",
        "\n",
        "\n",
        "\n"
      ],
      "execution_count": 0,
      "outputs": []
    },
    {
      "cell_type": "code",
      "metadata": {
        "id": "ZKXCgKhgxRcN",
        "colab_type": "code",
        "colab": {}
      },
      "source": [
        "num_epochs, lr = 10, 0.5\n"
      ],
      "execution_count": 0,
      "outputs": []
    },
    {
      "cell_type": "code",
      "metadata": {
        "id": "QdvR5YnjjweQ",
        "colab_type": "code",
        "colab": {}
      },
      "source": [
        "### Evaluate accuracy "
      ],
      "execution_count": 0,
      "outputs": []
    },
    {
      "cell_type": "code",
      "metadata": {
        "id": "eIv_WNt-uYKV",
        "colab_type": "code",
        "colab": {}
      },
      "source": [
        "def eval_accuracy(net, data_iter):\n",
        "\n",
        "  metric = Accumulator(2)\n",
        "\n",
        "  for X,y in data_iter:\n",
        "     metric.add([accuracy(net(X), y), y.size])\n",
        "\n",
        "  return metric[0] / metric[1]"
      ],
      "execution_count": 0,
      "outputs": []
    },
    {
      "cell_type": "code",
      "metadata": {
        "id": "I1RlkPn-uZiH",
        "colab_type": "code",
        "colab": {}
      },
      "source": [
        ""
      ],
      "execution_count": 0,
      "outputs": []
    },
    {
      "cell_type": "code",
      "metadata": {
        "id": "N8hqWf9-olcE",
        "colab_type": "code",
        "colab": {}
      },
      "source": [
        "\n",
        "def accuracy(y_hat, y):\n",
        "    if y_hat.shape[1] > 1:\n",
        "        return ((y_hat.argmax(axis=1) == y.astype('float32')).sum()).astype('float32')\n",
        "    else:\n",
        "        return ((y_hat.astype('int32') == y.astype('int32')).sum()).astype('float32')"
      ],
      "execution_count": 0,
      "outputs": []
    },
    {
      "cell_type": "markdown",
      "metadata": {
        "id": "c9wxZzMSj3A5",
        "colab_type": "text"
      },
      "source": [
        "### Stochastic Gradient descent"
      ]
    },
    {
      "cell_type": "code",
      "metadata": {
        "id": "DiNV-gM8stRh",
        "colab_type": "code",
        "colab": {}
      },
      "source": [
        "def sgd(parameters, lr, batch_size):\n",
        "\n",
        "  \"\"\"\n",
        "  Stochastic gradient descent\n",
        "\n",
        "  parameters: model parameters\n",
        "  lr : learning rate\n",
        "  batch_Size : mini batch size\n",
        "  returns: updated parameters  \n",
        "  \"\"\"\n",
        "  for param in parameters:\n",
        "    param[:] = param - lr * param.grad / batch_size"
      ],
      "execution_count": 0,
      "outputs": []
    },
    {
      "cell_type": "markdown",
      "metadata": {
        "id": "1KLoWqPqj96l",
        "colab_type": "text"
      },
      "source": [
        "### Function to displa images"
      ]
    },
    {
      "cell_type": "code",
      "metadata": {
        "id": "7vVwAzJgvevO",
        "colab_type": "code",
        "colab": {}
      },
      "source": [
        "import matplotlib.pyplot as plt\n",
        "import sys\n",
        "\n",
        "def show_images(imgs, num_rows, num_cols, titles=None, scale=1.5):\n",
        "    \"\"\"Plot a list of images.\"\"\"\n",
        "    figsize = (num_cols * scale, num_rows * scale)\n",
        "    _, axes = plt.subplots(num_rows, num_cols, figsize=figsize)\n",
        "    axes = axes.flatten()\n",
        "    for i, (ax, img) in enumerate(zip(axes, imgs)):\n",
        "        ax.imshow(img.asnumpy())\n",
        "        ax.axes.get_xaxis().set_visible(False)\n",
        "        ax.axes.get_yaxis().set_visible(False)\n",
        "        if titles:\n",
        "            ax.set_title(titles[i])\n",
        "    return axes"
      ],
      "execution_count": 0,
      "outputs": []
    },
    {
      "cell_type": "code",
      "metadata": {
        "id": "nbQS4W1Hwq9H",
        "colab_type": "code",
        "colab": {}
      },
      "source": [
        "def get_fashion_mnist_labels(labels):\n",
        "    text_labels = ['t-shirt', 'trouser', 'pullover', 'dress', 'coat',\n",
        "                   'sandal', 'shirt', 'sneaker', 'bag', 'ankle boot']\n",
        "    return [text_labels[int(i)] for i in labels]"
      ],
      "execution_count": 0,
      "outputs": []
    },
    {
      "cell_type": "code",
      "metadata": {
        "id": "H9XKPthwwudr",
        "colab_type": "code",
        "colab": {}
      },
      "source": [
        "def get_dataloader_workers(num_workers=4):\n",
        "    # 0 means no additional process is used to speed up the reading of data.\n",
        "    if sys.platform.startswith('win'):\n",
        "        return 0\n",
        "    else:\n",
        "        return num_workers"
      ],
      "execution_count": 0,
      "outputs": []
    },
    {
      "cell_type": "code",
      "metadata": {
        "id": "ov3ykBEdwyg7",
        "colab_type": "code",
        "colab": {}
      },
      "source": [
        "def load_data_fashion_mnist(batch_size, resize=None):\n",
        "    \"\"\"Download the Fashion-MNIST dataset and then load into memory.\"\"\"\n",
        "    dataset = gluon.data.vision\n",
        "    trans = [dataset.transforms.Resize(resize)] if resize else [] # resize in terms of pixel\n",
        "\n",
        "    ### The ToTensor() class normalizes the grayscale values by dividing by 255\n",
        "    trans.append(dataset.transforms.ToTensor())\n",
        "    trans = dataset.transforms.Compose(trans )\n",
        "    mnist_train = dataset.FashionMNIST(train=True).transform_first(trans) # train data\n",
        "    mnist_test = dataset.FashionMNIST(train=False).transform_first(trans) # test data\n",
        "\n",
        "    ### return a tuple (train, test) in the batch_size specified\n",
        "    return (gluon.data.DataLoader(mnist_train, batch_size, shuffle=True,\n",
        "                                  num_workers=get_dataloader_workers(), ),\n",
        "            gluon.data.DataLoader(mnist_test, batch_size, shuffle=False,\n",
        "                                  num_workers=get_dataloader_workers()))"
      ],
      "execution_count": 0,
      "outputs": []
    },
    {
      "cell_type": "code",
      "metadata": {
        "colab_type": "code",
        "id": "aPsMNBB3FjP6",
        "colab": {}
      },
      "source": [
        "batch_size = 256\n",
        "train_iter, test_iter = load_data_fashion_mnist(batch_size)"
      ],
      "execution_count": 0,
      "outputs": []
    },
    {
      "cell_type": "markdown",
      "metadata": {
        "id": "ZqWvHvKnkK5Z",
        "colab_type": "text"
      },
      "source": [
        "### Train epochs Multi Layer Perceptron"
      ]
    },
    {
      "cell_type": "code",
      "metadata": {
        "id": "gj_w4Ju-usuX",
        "colab_type": "code",
        "colab": {}
      },
      "source": [
        "def train_mlp( net, train_iter,test_iter, loss, epochs, updater):\n",
        "\n",
        "  animator = Animator([],[[],[],[]], \"Performance metrics\", [\"train loss\", \"train accuracy\", \"test accuracy\"], (3,4), (3,4), \"epoch\", \"value\")\n",
        "\n",
        "  for epoch in range(epochs):\n",
        "\n",
        "    train_metrics = train(net, train_iter, loss, updater)\n",
        "    test_acc = eval_accuracy(net, test_iter)\n",
        "    print(train_metrics[0].asnumpy(), train_metrics[1].asnumpy(), test_acc.asnumpy())\n",
        "    #animator_trainloss.add_plot(epoch+1, train_metrics[0] )\n",
        "    #animator_trainaccuracy.add_plot(epoch+1, train_metrics[1])\n",
        "    y_pt = [list(train_metrics[0].asnumpy()), list(train_metrics[1].asnumpy()), list(test_acc.asnumpy())]\n",
        "    animator.add_to_plot([epoch+1], y_pt)"
      ],
      "execution_count": 0,
      "outputs": []
    },
    {
      "cell_type": "markdown",
      "metadata": {
        "id": "sdjPQFT7kRE1",
        "colab_type": "text"
      },
      "source": [
        "### Metrics plotted"
      ]
    },
    {
      "cell_type": "code",
      "metadata": {
        "id": "Ah5bVnyowIIo",
        "colab_type": "code",
        "colab": {
          "base_uri": "https://localhost:8080/",
          "height": 416
        },
        "outputId": "26c51400-d56c-4275-91dd-612a33ac6d5c"
      },
      "source": [
        "num_epochs, lr = 10, 0.5\n",
        "\n",
        "def updater(batch_size, lr, params):\n",
        "    sgd(params, lr, batch_size)\n",
        "\n",
        "train_mlp(net, train_iter, test_iter, loss, num_epochs, updater)"
      ],
      "execution_count": 23,
      "outputs": [
        {
          "output_type": "stream",
          "text": [
            "No handles with labels found to put in legend.\n"
          ],
          "name": "stderr"
        },
        {
          "output_type": "stream",
          "text": [
            "[0.30346791] [0.88761667] [0.8538]\n",
            "[0.7807786549250285, 0.4931356721878052, 0.4277384465535482, 0.38835464588801066, 0.36722384128570557, 0.35327456328074136, 0.3357478385925293, 0.32322658739089966, 0.3090243028004964, 0.303467905553182]\n",
            "[0.7055166666666667, 0.8180166666666666, 0.8428833333333333, 0.8570166666666666, 0.8648, 0.8697333333333334, 0.8763, 0.8804, 0.886, 0.8876166666666667]\n",
            "[0.7711, 0.8324, 0.8288, 0.8556, 0.8418, 0.86, 0.7978, 0.863, 0.8806, 0.8538]\n"
          ],
          "name": "stdout"
        },
        {
          "output_type": "display_data",
          "data": {
            "image/png": "[encoded data removed]",
            "text/plain": [
              "<Figure size 432x288 with 1 Axes>"
            ]
          },
          "metadata": {
            "tags": []
          }
        },
        {
          "output_type": "display_data",
          "data": {
            "text/plain": [
              "<module 'matplotlib.pyplot' from '/usr/local/lib/python3.6/dist-packages/matplotlib/pyplot.py'>"
            ]
          },
          "metadata": {
            "tags": []
          }
        }
      ]
    },
    {
      "cell_type": "markdown",
      "metadata": {
        "id": "_RL5ikQokU1f",
        "colab_type": "text"
      },
      "source": [
        "### Predictions better than softmax linear network"
      ]
    },
    {
      "cell_type": "code",
      "metadata": {
        "id": "EMfFJEHqwdY5",
        "colab_type": "code",
        "colab": {
          "base_uri": "https://localhost:8080/",
          "height": 134
        },
        "outputId": "dd4738a6-fa22-4f9b-9a02-ed3a461afaec"
      },
      "source": [
        "def predict_ch3(net, test_iter, n=6):\n",
        "    for X, y in test_iter:\n",
        "        break\n",
        "    trues = get_fashion_mnist_labels(y.asnumpy())\n",
        "    preds = get_fashion_mnist_labels((net(X).argmax(axis=1).asnumpy()))\n",
        "    titles = [true+'\\n' + pred for true, pred in zip(trues, preds)]\n",
        "    show_images(X[n+1:n+10].reshape(n, 28, 28), 1, n, titles=titles[n+1:n+10])\n",
        "\n",
        "predict_ch3(net, test_iter)"
      ],
      "execution_count": 25,
      "outputs": [
        {
          "output_type": "display_data",
          "data": {
            "image/png": "[encoded data removed]",
            "text/plain": [
              "<Figure size 648x108 with 6 Axes>"
            ]
          },
          "metadata": {
            "tags": []
          }
        }
      ]
    }
  ]
}