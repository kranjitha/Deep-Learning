{
  "nbformat": 4,
  "nbformat_minor": 0,
  "metadata": {
    "colab": {
      "name": "Concise Implementation of Multilayer Perceptron.ipynb",
      "provenance": []
    },
    "kernelspec": {
      "name": "python3",
      "display_name": "Python 3"
    }
  },
  "cells": [
    {
      "cell_type": "code",
      "metadata": {
        "id": "EI0itIBnlaXa",
        "colab_type": "code",
        "colab": {
          "base_uri": "https://localhost:8080/",
          "height": 150
        },
        "outputId": "7e92c3c6-6805-4356-b0c1-8f7bde2225bd"
      },
      "source": [
        "!pip install mxnet-cu101mkl"
      ],
      "execution_count": 43,
      "outputs": [
        {
          "output_type": "stream",
          "text": [
            "Requirement already satisfied: mxnet-cu101mkl in /usr/local/lib/python3.6/dist-packages (1.5.1.post0)\n",
            "Requirement already satisfied: requests<3,>=2.20.0 in /usr/local/lib/python3.6/dist-packages (from mxnet-cu101mkl) (2.21.0)\n",
            "Requirement already satisfied: numpy<2.0.0,>1.16.0 in /usr/local/lib/python3.6/dist-packages (from mxnet-cu101mkl) (1.17.4)\n",
            "Requirement already satisfied: graphviz<0.9.0,>=0.8.1 in /usr/local/lib/python3.6/dist-packages (from mxnet-cu101mkl) (0.8.4)\n",
            "Requirement already satisfied: certifi>=2017.4.17 in /usr/local/lib/python3.6/dist-packages (from requests<3,>=2.20.0->mxnet-cu101mkl) (2019.11.28)\n",
            "Requirement already satisfied: urllib3<1.25,>=1.21.1 in /usr/local/lib/python3.6/dist-packages (from requests<3,>=2.20.0->mxnet-cu101mkl) (1.24.3)\n",
            "Requirement already satisfied: idna<2.9,>=2.5 in /usr/local/lib/python3.6/dist-packages (from requests<3,>=2.20.0->mxnet-cu101mkl) (2.8)\n",
            "Requirement already satisfied: chardet<3.1.0,>=3.0.2 in /usr/local/lib/python3.6/dist-packages (from requests<3,>=2.20.0->mxnet-cu101mkl) (3.0.4)\n"
          ],
          "name": "stdout"
        }
      ]
    },
    {
      "cell_type": "code",
      "metadata": {
        "id": "oGNh30AeYGi8",
        "colab_type": "code",
        "colab": {}
      },
      "source": [
        "import mxnet as mx\n",
        "from mxnet import gluon, init"
      ],
      "execution_count": 0,
      "outputs": []
    },
    {
      "cell_type": "markdown",
      "metadata": {
        "id": "KUxqYVLvgm93",
        "colab_type": "text"
      },
      "source": [
        "### Declare gluon sequential network"
      ]
    },
    {
      "cell_type": "code",
      "metadata": {
        "id": "DQmJtPj5Y6qc",
        "colab_type": "code",
        "colab": {}
      },
      "source": [
        "net = gluon.nn.Sequential()"
      ],
      "execution_count": 0,
      "outputs": []
    },
    {
      "cell_type": "markdown",
      "metadata": {
        "id": "1TGhUGWegreL",
        "colab_type": "text"
      },
      "source": [
        "### Add a hidden layer (256 nodes), output layer(10 nodes)"
      ]
    },
    {
      "cell_type": "code",
      "metadata": {
        "id": "sIFIcPdWZGol",
        "colab_type": "code",
        "colab": {}
      },
      "source": [
        "net.add(gluon.nn.Dense(256, activation = 'relu'), gluon.nn.Dense(10))"
      ],
      "execution_count": 0,
      "outputs": []
    },
    {
      "cell_type": "markdown",
      "metadata": {
        "id": "HZtQr9Nog82_",
        "colab_type": "text"
      },
      "source": [
        "### Initialize with normal weights"
      ]
    },
    {
      "cell_type": "code",
      "metadata": {
        "id": "f_4_Bo95Zazv",
        "colab_type": "code",
        "colab": {}
      },
      "source": [
        "net.initialize(init.Normal(sigma=0.01))\n"
      ],
      "execution_count": 0,
      "outputs": []
    },
    {
      "cell_type": "markdown",
      "metadata": {
        "id": "mjh-Dv0bg_Ln",
        "colab_type": "text"
      },
      "source": [
        "### Soft max cross entropy loss"
      ]
    },
    {
      "cell_type": "code",
      "metadata": {
        "id": "7lXLed1NcWqy",
        "colab_type": "code",
        "colab": {}
      },
      "source": [
        "loss = gluon.loss.SoftmaxCrossEntropyLoss()\n"
      ],
      "execution_count": 0,
      "outputs": []
    },
    {
      "cell_type": "markdown",
      "metadata": {
        "id": "Vx2DRkvUhEzw",
        "colab_type": "text"
      },
      "source": [
        "### Function to load fashion MNSIT"
      ]
    },
    {
      "cell_type": "code",
      "metadata": {
        "id": "XnrxCwLFhLC4",
        "colab_type": "code",
        "colab": {}
      },
      "source": [
        "def load_data_fashion_mnist(batch_size, resize=None):\n",
        "    \"\"\"Download the Fashion-MNIST dataset and then load into memory.\"\"\"\n",
        "    dataset = gluon.data.vision\n",
        "    trans = [dataset.transforms.Resize(resize)] if resize else [] # resize in terms of pixel\n",
        "\n",
        "    ### The ToTensor() class normalizes the grayscale values by dividing by 255\n",
        "    trans.append(dataset.transforms.ToTensor())\n",
        "    trans = dataset.transforms.Compose(trans )\n",
        "    mnist_train = dataset.FashionMNIST(train=True).transform_first(trans) # train data\n",
        "    mnist_test = dataset.FashionMNIST(train=False).transform_first(trans) # test data\n",
        "\n",
        "    ### return a tuple (train, test) in the batch_size specified\n",
        "    return (gluon.data.DataLoader(mnist_train, batch_size, shuffle=True,\n",
        "                                  num_workers=4, ),\n",
        "            gluon.data.DataLoader(mnist_test, batch_size, shuffle=False,\n",
        "                                  num_workers= 4))"
      ],
      "execution_count": 0,
      "outputs": []
    },
    {
      "cell_type": "code",
      "metadata": {
        "id": "EwJdSwMjbppX",
        "colab_type": "code",
        "colab": {}
      },
      "source": [
        "\n",
        "batch_size = 256\n",
        "train_iter, test_iter = load_data_fashion_mnist(batch_size)"
      ],
      "execution_count": 0,
      "outputs": []
    },
    {
      "cell_type": "markdown",
      "metadata": {
        "id": "qJW17VC6hUws",
        "colab_type": "text"
      },
      "source": [
        "### Function to calculate sum of metrics"
      ]
    },
    {
      "cell_type": "code",
      "metadata": {
        "id": "NcV-AHRY8yPd",
        "colab_type": "code",
        "colab": {}
      },
      "source": [
        "class Accumulator():\n",
        "\n",
        "  def __init__(self, size):\n",
        "\n",
        "    self.n = size\n",
        "\n",
        "    self.data = [0] * self.n\n",
        "\n",
        "  def add(self, data):\n",
        "\n",
        "    self.data = [x + y for x,y in zip(data, self.data)]\n",
        "\n",
        "  def __getitem__(self, i):\n",
        "\n",
        "    if type(self.data[i]) == int:\n",
        "      return self.data[i]\n",
        "\n",
        "    return self.data[i].astype(float)[0]"
      ],
      "execution_count": 0,
      "outputs": []
    },
    {
      "cell_type": "markdown",
      "metadata": {
        "id": "tcx3IROlhbUH",
        "colab_type": "text"
      },
      "source": [
        "### Animator class to visualize epochs dynamically"
      ]
    },
    {
      "cell_type": "code",
      "metadata": {
        "id": "L8EuJW8Db3j8",
        "colab_type": "code",
        "colab": {}
      },
      "source": [
        "from IPython import display\n",
        "import seaborn as sns\n",
        "import matplotlib.pyplot as plt\n",
        "\n",
        "class Animator:\n",
        "\n",
        "  def __init__(self , x, y, title, labels, range, figsize, xlabel, ylabel ):\n",
        "\n",
        "    self.x = x\n",
        "    self.y = y\n",
        "    self.title = title\n",
        "    self.labels = labels\n",
        "    self.xlabel = xlabel\n",
        "    self.ylabel = ylabel\n",
        "    self.range = range\n",
        "    self.figsize = figsize\n",
        "\n",
        "\n",
        "\n",
        "  def add_to_plot(self, x, y):\n",
        "\n",
        "    \"\"\"\n",
        "    x : list of data points you want to add to x axis dimension : n\n",
        "    y: list of lists where each list has a dimension n (n is the number of individual line plots)\n",
        "    \"\"\"\n",
        "    # print(\"Hi\")\n",
        "    self.x = self.x + x\n",
        "    for i, yi in enumerate(self.y):\n",
        "      yi[:] = yi + y[i]\n",
        "    \n",
        "\n",
        "  \n",
        "\n",
        "    sns.set_style(\"darkgrid\")\n",
        "\n",
        "    for i,j in enumerate(self.y):\n",
        "      print(j)\n",
        "      plt.legend().remove()\n",
        "      plt.plot(self.x,j, label = self.labels[i])\n",
        "    plt.legend()\n",
        "    plt.title(self.title)\n",
        "    plt.xlabel(self.xlabel)\n",
        "    plt.ylabel(self.ylabel)\n",
        "    plt.show()\n",
        "    \n",
        "    \n",
        "    display.display(plt)\n",
        "    display.clear_output(wait=True)\n",
        "    \n",
        "\n",
        "    \n",
        "    \n",
        "    \n",
        "    \n",
        "\n",
        "\n",
        "\n",
        "  \n",
        "\n",
        "\n"
      ],
      "execution_count": 0,
      "outputs": []
    },
    {
      "cell_type": "code",
      "metadata": {
        "id": "lsMuB8-hH_Nw",
        "colab_type": "code",
        "colab": {}
      },
      "source": [
        "def train_epoch(net, train_iter, loss, updater):\n",
        "\n",
        "  metric = Accumulator(3)\n",
        "  if isinstance(updater, gluon.Trainer):\n",
        "      updater = updater.step\n",
        "\n",
        "\n",
        "  for X,y in train_iter:\n",
        "\n",
        "    with mx.autograd.record():\n",
        "          y_hat = net(X)\n",
        "          l = loss(y_hat , y)\n",
        "\n",
        "    l.backward()\n",
        "\n",
        "    updater(X.shape[0])\n",
        "\n",
        "    metric.add([l.sum().astype(float), accuracy(y_hat, y).astype(float), y.size] )\n",
        "  # print(\"hi\")\n",
        "  # print(metric.data)\n",
        "\n",
        "  return metric[0]/metric[2] , metric[1] / metric[2]"
      ],
      "execution_count": 0,
      "outputs": []
    },
    {
      "cell_type": "code",
      "metadata": {
        "id": "3_sWdR2vcs2E",
        "colab_type": "code",
        "colab": {}
      },
      "source": [
        "def accuracy(y_hat, y):\n",
        "    if y_hat.shape[1] > 1:\n",
        "        return ((y_hat.argmax(axis=1) == y.astype('float32')).sum()).astype('float32')\n",
        "    else:\n",
        "        return ((y_hat.astype('int32') == y.astype('int32')).sum()).astype('float32')"
      ],
      "execution_count": 0,
      "outputs": []
    },
    {
      "cell_type": "code",
      "metadata": {
        "id": "Ulvbw6_8dobq",
        "colab_type": "code",
        "colab": {}
      },
      "source": [
        "def eval_accuracy(net, data_iter):\n",
        "\n",
        "  metric = Accumulator(2)\n",
        "\n",
        "  for X,y in data_iter:\n",
        "     metric.add([accuracy(net(X), y), y.size])\n",
        "\n",
        "  return metric[0] / metric[1]"
      ],
      "execution_count": 0,
      "outputs": []
    },
    {
      "cell_type": "code",
      "metadata": {
        "id": "u3sblJrIZfwe",
        "colab_type": "code",
        "colab": {}
      },
      "source": [
        "def trainch3( net, train_iter,test_iter, loss, epochs, updater):\n",
        "\n",
        "  animator = Animator([],[[],[],[]], \"Performance metrics\", [\"train loss\", \"train accuracy\", \"test accuracy\"], (3,4), (3,4), \"epoch\", \"value\")\n",
        "\n",
        "\n",
        "  for epoch in range(epochs):\n",
        "    train_metrics = train_epoch(net, train_iter, loss, updater)\n",
        "    test_acc = eval_accuracy(net, test_iter)\n",
        "    #animator_trainloss.add_plot(epoch+1, train_metrics[0] )\n",
        "    #animator_trainaccuracy.add_plot(epoch+1, train_metrics[1])\n",
        "    y_pt = [list(train_metrics[0].asnumpy()), list(train_metrics[1].asnumpy()), list(test_acc.asnumpy())]\n",
        "    animator.add_to_plot([epoch+1], y_pt)"
      ],
      "execution_count": 0,
      "outputs": []
    },
    {
      "cell_type": "code",
      "metadata": {
        "id": "R1QFypC_bj57",
        "colab_type": "code",
        "colab": {}
      },
      "source": [
        "\n",
        "batch_size = 256\n",
        "train_iter, test_iter = load_data_fashion_mnist(batch_size)"
      ],
      "execution_count": 0,
      "outputs": []
    },
    {
      "cell_type": "code",
      "metadata": {
        "id": "D9A-fLkrZJ22",
        "colab_type": "code",
        "colab": {
          "base_uri": "https://localhost:8080/",
          "height": 399
        },
        "outputId": "029efc78-1445-462e-d656-4cb9a0b72d4c"
      },
      "source": [
        "\n",
        "batch_size, num_epochs = 256, 10\n",
        "train_iter, test_iter = load_data_fashion_mnist(batch_size)\n",
        "loss = gluon.loss.SoftmaxCrossEntropyLoss()\n",
        "trainer = gluon.Trainer(net.collect_params(), 'sgd', {'learning_rate': 0.5})\n",
        "trainch3(net, train_iter, test_iter, loss, num_epochs, trainer)\n"
      ],
      "execution_count": 58,
      "outputs": [
        {
          "output_type": "stream",
          "text": [
            "No handles with labels found to put in legend.\n"
          ],
          "name": "stderr"
        },
        {
          "output_type": "stream",
          "text": [
            "[0.7958412047704061, 0.4803445772488912, 0.42428669459025065, 0.39483096408843993, 0.3674234453201294, 0.3526188730239868, 0.33573605273564655, 0.3258668579419454, 0.3146165096918742, 0.30239636567433675]\n",
            "[0.7040166666666666, 0.82325, 0.84375, 0.85355, 0.8641166666666666, 0.8681666666666666, 0.8761166666666667, 0.8788833333333333, 0.88285, 0.8885]\n",
            "[0.8237, 0.8356, 0.8416, 0.8122, 0.8532, 0.8062, 0.8744, 0.8508, 0.8145, 0.8446]\n"
          ],
          "name": "stdout"
        },
        {
          "output_type": "display_data",
          "data": {
            "image/png": "[encoded data removed]",
            "text/plain": [
              "<Figure size 432x288 with 1 Axes>"
            ]
          },
          "metadata": {
            "tags": []
          }
        },
        {
          "output_type": "display_data",
          "data": {
            "text/plain": [
              "<module 'matplotlib.pyplot' from '/usr/local/lib/python3.6/dist-packages/matplotlib/pyplot.py'>"
            ]
          },
          "metadata": {
            "tags": []
          }
        }
      ]
    },
    {
      "cell_type": "code",
      "metadata": {
        "id": "v2yIYvaMZXfb",
        "colab_type": "code",
        "colab": {}
      },
      "source": [
        ""
      ],
      "execution_count": 0,
      "outputs": []
    }
  ]
}