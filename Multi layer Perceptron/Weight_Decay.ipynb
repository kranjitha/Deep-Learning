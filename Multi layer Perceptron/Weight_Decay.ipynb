{
  "nbformat": 4,
  "nbformat_minor": 0,
  "metadata": {
    "colab": {
      "name": "Weight Decay.ipynb",
      "provenance": []
    },
    "kernelspec": {
      "name": "python3",
      "display_name": "Python 3"
    }
  },
  "cells": [
    {
      "cell_type": "markdown",
      "metadata": {
        "id": "k82cmIpOFSgQ",
        "colab_type": "text"
      },
      "source": [
        "### Notebook to demonstarete the effect of regularization on model performance"
      ]
    },
    {
      "cell_type": "code",
      "metadata": {
        "id": "4Smtdf3ZyuA0",
        "colab_type": "code",
        "colab": {
          "base_uri": "https://localhost:8080/",
          "height": 304
        },
        "outputId": "99f7f412-6016-4435-faaa-a9a021a79b1c"
      },
      "source": [
        "!pip install mxnet-cu101mkl"
      ],
      "execution_count": 2,
      "outputs": [
        {
          "output_type": "stream",
          "text": [
            "Collecting mxnet-cu101mkl\n",
            "\u001b[?25l  Downloading https://files.pythonhosted.org/packages/77/aa/3bab75904a39935cc71b68bec100f51c9ff061d0244bcd68037a6d57aba4/mxnet_cu101mkl-1.5.1.post0-py2.py3-none-manylinux1_x86_64.whl (587.7MB)\n",
            "\u001b[K     |████████████████████████████████| 587.7MB 29kB/s \n",
            "\u001b[?25hCollecting graphviz<0.9.0,>=0.8.1\n",
            "  Downloading https://files.pythonhosted.org/packages/53/39/4ab213673844e0c004bed8a0781a0721a3f6bb23eb8854ee75c236428892/graphviz-0.8.4-py2.py3-none-any.whl\n",
            "Requirement already satisfied: numpy<2.0.0,>1.16.0 in /usr/local/lib/python3.6/dist-packages (from mxnet-cu101mkl) (1.17.4)\n",
            "Requirement already satisfied: requests<3,>=2.20.0 in /usr/local/lib/python3.6/dist-packages (from mxnet-cu101mkl) (2.21.0)\n",
            "Requirement already satisfied: idna<2.9,>=2.5 in /usr/local/lib/python3.6/dist-packages (from requests<3,>=2.20.0->mxnet-cu101mkl) (2.8)\n",
            "Requirement already satisfied: chardet<3.1.0,>=3.0.2 in /usr/local/lib/python3.6/dist-packages (from requests<3,>=2.20.0->mxnet-cu101mkl) (3.0.4)\n",
            "Requirement already satisfied: urllib3<1.25,>=1.21.1 in /usr/local/lib/python3.6/dist-packages (from requests<3,>=2.20.0->mxnet-cu101mkl) (1.24.3)\n",
            "Requirement already satisfied: certifi>=2017.4.17 in /usr/local/lib/python3.6/dist-packages (from requests<3,>=2.20.0->mxnet-cu101mkl) (2019.11.28)\n",
            "Installing collected packages: graphviz, mxnet-cu101mkl\n",
            "  Found existing installation: graphviz 0.10.1\n",
            "    Uninstalling graphviz-0.10.1:\n",
            "      Successfully uninstalled graphviz-0.10.1\n",
            "Successfully installed graphviz-0.8.4 mxnet-cu101mkl-1.5.1.post0\n"
          ],
          "name": "stdout"
        }
      ]
    },
    {
      "cell_type": "markdown",
      "metadata": {
        "id": "lKKn8ICjFZIk",
        "colab_type": "text"
      },
      "source": [
        "### Synthetic data generator"
      ]
    },
    {
      "cell_type": "code",
      "metadata": {
        "id": "P4nWH8DazpII",
        "colab_type": "code",
        "colab": {}
      },
      "source": [
        "def synthetic_data(n_train, w, b):\n",
        "\n",
        "  X = mx.nd.normal(0, 0.1, (n_train, w.shape[0]))\n",
        "  y = mx.nd.dot(X, w) + b\n",
        "  y = y + mx.nd.normal(0, 0.1, (y.shape))\n",
        "  \n",
        "  return X,y"
      ],
      "execution_count": 0,
      "outputs": []
    },
    {
      "cell_type": "code",
      "metadata": {
        "id": "d4ZJpbTBzd-n",
        "colab_type": "code",
        "colab": {}
      },
      "source": [
        "from mxnet import autograd, gluon, nd, init\n",
        "from mxnet.gluon import nn\n",
        "import mxnet as mx\n",
        "\n",
        "n_train, n_test, num_inputs, batch_size = 20, 100, 200, 1\n",
        "true_w, true_b = mx.nd.ones((num_inputs, 1)) * 0.01, 0.05\n",
        "train_data = synthetic_data(n_train, true_w, true_b)\n",
        "train_iter = load_array(train_data, batch_size)\n",
        "test_data = synthetic_data(n_test, true_w, true_b)\n",
        "test_iter = load_array(test_data, batch_size)"
      ],
      "execution_count": 0,
      "outputs": []
    },
    {
      "cell_type": "markdown",
      "metadata": {
        "id": "B3J72tuUFfJ4",
        "colab_type": "text"
      },
      "source": [
        "# Parameter initialization"
      ]
    },
    {
      "cell_type": "code",
      "metadata": {
        "id": "oAICCAFK02OM",
        "colab_type": "code",
        "colab": {}
      },
      "source": [
        "def init_params():\n",
        "    w = mx.nd.random.normal(0, 0.1, (num_inputs, 1))\n",
        "    b = mx.nd.zeros(1)\n",
        "    w.attach_grad()\n",
        "    b.attach_grad()\n",
        "    return [w, b]"
      ],
      "execution_count": 0,
      "outputs": []
    },
    {
      "cell_type": "markdown",
      "metadata": {
        "id": "j4YO_7CzFiRE",
        "colab_type": "text"
      },
      "source": [
        "### L-2 term\n",
        "\n",
        "divided by 2 to make differentiation easy"
      ]
    },
    {
      "cell_type": "code",
      "metadata": {
        "id": "04Yche3ed-nY",
        "colab_type": "code",
        "colab": {}
      },
      "source": [
        "def l2_penalty(w):\n",
        "    return (w**2).sum() / 2"
      ],
      "execution_count": 0,
      "outputs": []
    },
    {
      "cell_type": "markdown",
      "metadata": {
        "id": "H5uxAGPeFqPT",
        "colab_type": "text"
      },
      "source": [
        "### Linear Regression"
      ]
    },
    {
      "cell_type": "code",
      "metadata": {
        "id": "57T3IVXpzec6",
        "colab_type": "code",
        "colab": {}
      },
      "source": [
        "def linreg( parameters, X):\n",
        "\n",
        "  \"\"\"\n",
        "  Linear regression equation\n",
        "\n",
        "\n",
        "  X : m x n matrix\n",
        "\n",
        "  w : n x n matrix\n",
        "\n",
        "  b : bias term\n",
        "  \"\"\"\n",
        "\n",
        "  y = mx.nd.dot(X, parameters[0]) + parameters[1] \n",
        "\n",
        "  return y"
      ],
      "execution_count": 0,
      "outputs": []
    },
    {
      "cell_type": "markdown",
      "metadata": {
        "id": "2wHVezbbFu6O",
        "colab_type": "text"
      },
      "source": [
        "### Squared loss"
      ]
    },
    {
      "cell_type": "code",
      "metadata": {
        "id": "QEjKKrQq49PH",
        "colab_type": "code",
        "colab": {}
      },
      "source": [
        "def squared_loss(y_hat, y):\n",
        "\n",
        "  \"\"\"\n",
        "\n",
        "  y_hat : estimate of y\n",
        "\n",
        "  y : actual value of y\n",
        "\n",
        "  returns: squared loss \n",
        "  \"\"\"\n",
        "\n",
        "  return (y_hat - y.reshape(y_hat.shape))**2 / 2"
      ],
      "execution_count": 0,
      "outputs": []
    },
    {
      "cell_type": "markdown",
      "metadata": {
        "id": "eXfqrb6yFy5H",
        "colab_type": "text"
      },
      "source": [
        "### Animator class to plot training progress"
      ]
    },
    {
      "cell_type": "code",
      "metadata": {
        "id": "1R_n-6Ut5fGW",
        "colab_type": "code",
        "colab": {}
      },
      "source": [
        "from IPython import display\n",
        "import seaborn as sns\n",
        "import matplotlib.pyplot as plt\n",
        "\n",
        "class Animator:\n",
        "\n",
        "  def __init__(self , x, y, title, labels, range, figsize, xlabel, ylabel ):\n",
        "\n",
        "    self.x = x\n",
        "    self.y = y\n",
        "    self.title = title\n",
        "    self.labels = labels\n",
        "    self.xlabel = xlabel\n",
        "    self.ylabel = ylabel\n",
        "    self.range = range\n",
        "    self.figsize = figsize\n",
        "\n",
        "\n",
        "\n",
        "  def add_to_plot(self, x, y):\n",
        "\n",
        "    \"\"\"\n",
        "    x : list of data points you want to add to x axis dimension : n\n",
        "    y: list of lists where each list has a dimension n (n is the number of individual line plots)\n",
        "    \"\"\"\n",
        "    # print(\"Hi\")\n",
        "    self.x = self.x + x\n",
        "    for i, yi in enumerate(self.y):\n",
        "      yi[:] = yi + y[i]\n",
        "    \n",
        "\n",
        "  \n",
        "\n",
        "    sns.set_style(\"darkgrid\")\n",
        "\n",
        "    for i,j in enumerate(self.y):\n",
        "      print(j)\n",
        "      plt.legend().remove()\n",
        "      plt.plot(self.x,j, label = self.labels[i])\n",
        "    plt.legend()\n",
        "    plt.title(self.title)\n",
        "    plt.xlabel(self.xlabel)\n",
        "    plt.ylabel(self.ylabel)\n",
        "\n",
        "    \n",
        "    display.clear_output(wait=True)\n",
        "    plt.show()\n",
        "\n",
        "\n",
        "    display.display(plt)\n",
        "    "
      ],
      "execution_count": 0,
      "outputs": []
    },
    {
      "cell_type": "code",
      "metadata": {
        "id": "UycN2UDO-GW6",
        "colab_type": "code",
        "colab": {}
      },
      "source": [
        "class Accumulator():\n",
        "\n",
        "  def __init__(self, size):\n",
        "\n",
        "    self.n = size\n",
        "\n",
        "    self.data = [0] * self.n\n",
        "\n",
        "  def add(self, *args):\n",
        "\n",
        "    self.data = [x + y for x,y in zip(self.data, args)]\n",
        "\n",
        "  def reset(self):\n",
        "    self.data = [0] * self.n\n",
        "\n",
        "  def __getitem__(self, i):\n",
        "\n",
        "    if type(self.data[i]) == int:\n",
        "      return self.data[i]\n",
        "\n",
        "    return self.data[i].astype(float)[0]"
      ],
      "execution_count": 0,
      "outputs": []
    },
    {
      "cell_type": "markdown",
      "metadata": {
        "id": "ZOkiTl_-F34F",
        "colab_type": "text"
      },
      "source": [
        "Stochastic gradient descent as updater"
      ]
    },
    {
      "cell_type": "code",
      "metadata": {
        "id": "6AjfrKk_6MY-",
        "colab_type": "code",
        "colab": {}
      },
      "source": [
        "def sgd(params, lr, batch_size):\n",
        "  for param in params:\n",
        "    param[:] = param - lr * param.grad / batch_size"
      ],
      "execution_count": 0,
      "outputs": []
    },
    {
      "cell_type": "code",
      "metadata": {
        "id": "zu76fLgN5C1Z",
        "colab_type": "code",
        "colab": {}
      },
      "source": [
        "def evaluate_loss(net, data_iter1, loss):\n",
        "\n",
        "  metric1  = Accumulator(2)\n",
        "\n",
        "  for X,y in data_iter1:\n",
        "\n",
        "    metric1.add(loss(net(X), y).sum(), y.size)\n",
        "  # print(metric1[0]/metric1[1])\n",
        "  return metric1[0]/metric1[1]\n"
      ],
      "execution_count": 0,
      "outputs": []
    },
    {
      "cell_type": "code",
      "metadata": {
        "id": "cK2SYbST7ex9",
        "colab_type": "code",
        "colab": {}
      },
      "source": [
        "def train(lamba):\n",
        "  w = init_params()[0]\n",
        "  b = init_params()[1]\n",
        "  net, loss = lambda X: linreg([w, b], X), squared_loss\n",
        "  num_epochs, lr = 100, 0.003\n",
        "  train_iter = load_array(train_data, batch_size)\n",
        "  test_iter = load_array(test_data, batch_size )\n",
        "  train_iter = list(train_iter)\n",
        "  test_iter = list(test_iter)\n",
        "\n",
        "  animator = Animator([],[[],[]], \"Performance metrics\", [\"train loss\", \"test loss\"], (3,4), (3,4), \"epoch\", \"value\")\n",
        "\n",
        "\n",
        "  for epoch in range(1, num_epochs + 1):\n",
        "      for X, y in train_iter:\n",
        "          with autograd.record():\n",
        "              # The L2 norm penalty term has been added\n",
        "              l = loss(net(X), y) + lamba * l2_penalty(w)\n",
        "          l.backward()\n",
        "          sgd([w, b], lr, batch_size)\n",
        "      if epoch % 5 == 0:\n",
        "          animator.add_to_plot([epoch+1], ([[evaluate_loss(net, train_iter, loss).asnumpy()[0]],\n",
        "                                  [evaluate_loss(net, test_iter, loss).asnumpy()[0]]]))\n",
        "  print('l1 norm of w:', mx.nd.abs(w).sum())\n"
      ],
      "execution_count": 0,
      "outputs": []
    },
    {
      "cell_type": "markdown",
      "metadata": {
        "id": "SYoPV-mlF9xx",
        "colab_type": "text"
      },
      "source": [
        "### No Regularization\n",
        "\n",
        "lambda = 0\n",
        "\n",
        "We can see that test performance cannot be improved"
      ]
    },
    {
      "cell_type": "code",
      "metadata": {
        "id": "KwmMsRWE8LMO",
        "colab_type": "code",
        "colab": {
          "base_uri": "https://localhost:8080/",
          "height": 362
        },
        "outputId": "22c9d109-b39d-493a-e9aa-1d529d661899"
      },
      "source": [
        "train(lamba = 0)"
      ],
      "execution_count": 76,
      "outputs": [
        {
          "output_type": "display_data",
          "data": {
            "image/png": "[encoded data removed]",
            "text/plain": [
              "<Figure size 432x288 with 1 Axes>"
            ]
          },
          "metadata": {
            "tags": []
          }
        },
        {
          "output_type": "display_data",
          "data": {
            "text/plain": [
              "<module 'matplotlib.pyplot' from '/usr/local/lib/python3.6/dist-packages/matplotlib/pyplot.py'>"
            ]
          },
          "metadata": {
            "tags": []
          }
        },
        {
          "output_type": "stream",
          "text": [
            "l1 norm of w: \n",
            "[16.114279]\n",
            "<NDArray 1 @cpu(0)>\n"
          ],
          "name": "stdout"
        }
      ]
    },
    {
      "cell_type": "markdown",
      "metadata": {
        "id": "IglvxZJ_GOFw",
        "colab_type": "text"
      },
      "source": [
        "### With Regularization:\n",
        "\n",
        "Though train loss increases, the test loss came down as compared to no regularization"
      ]
    },
    {
      "cell_type": "code",
      "metadata": {
        "id": "P02zQVC19m7_",
        "colab_type": "code",
        "colab": {
          "base_uri": "https://localhost:8080/",
          "height": 362
        },
        "outputId": "9a2e3a7c-bbc2-4937-fb48-1f5edeefa7f7"
      },
      "source": [
        "train(lamba=3)\n"
      ],
      "execution_count": 78,
      "outputs": [
        {
          "output_type": "display_data",
          "data": {
            "image/png": "[encoded data removed]",
            "text/plain": [
              "<Figure size 432x288 with 1 Axes>"
            ]
          },
          "metadata": {
            "tags": []
          }
        },
        {
          "output_type": "display_data",
          "data": {
            "text/plain": [
              "<module 'matplotlib.pyplot' from '/usr/local/lib/python3.6/dist-packages/matplotlib/pyplot.py'>"
            ]
          },
          "metadata": {
            "tags": []
          }
        },
        {
          "output_type": "stream",
          "text": [
            "l1 norm of w: \n",
            "[0.1268076]\n",
            "<NDArray 1 @cpu(0)>\n"
          ],
          "name": "stdout"
        }
      ]
    },
    {
      "cell_type": "markdown",
      "metadata": {
        "id": "hs7jALcXGjo7",
        "colab_type": "text"
      },
      "source": [
        "### Concise Implementation of weight decay demonstration using gluon"
      ]
    },
    {
      "cell_type": "code",
      "metadata": {
        "id": "IBBA6rJpAX7p",
        "colab_type": "code",
        "colab": {}
      },
      "source": [
        "def train_gluon(wd):\n",
        "    net = nn.Sequential()\n",
        "    net.add(nn.Dense(1))\n",
        "    net.initialize(init.Normal(sigma=1))\n",
        "    loss = gluon.loss.L2Loss()\n",
        "    train_iter = load_array(train_data, batch_size)\n",
        "    test_iter = load_array(test_data, batch_size )\n",
        "    train_iter = list(train_iter)\n",
        "    test_iter = list(test_iter)\n",
        "    num_epochs, lr = 100, 0.003\n",
        "    # The weight parameter has been decayed. Weight names generally end with\n",
        "    # \"weight\"\n",
        "    trainer_w = gluon.Trainer(net.collect_params('.*weight'), 'sgd',\n",
        "                              {'learning_rate': lr, 'wd': wd})\n",
        "    # The bias parameter has not decayed. Bias names generally end with \"bias\"\n",
        "    trainer_b = gluon.Trainer(net.collect_params('.*bias'), 'sgd',\n",
        "                              {'learning_rate': lr})\n",
        "    animator = Animator([],[[],[]], \"Performance metrics\", [\"train loss\", \"test loss\"], (3,4), (3,4), \"epoch\", \"value\")\n",
        "\n",
        "    for epoch in range(1, num_epochs+1):\n",
        "        for X, y in train_iter:\n",
        "            with autograd.record():\n",
        "                l = loss(net(X), y)\n",
        "            l.backward()\n",
        "            # Call the step function on each of the two Trainer instances to\n",
        "            # update the weight and bias separately\n",
        "            trainer_w.step(batch_size)\n",
        "            trainer_b.step(batch_size)\n",
        "        if epoch % 5 == 0:\n",
        "            animator.add_to_plot([epoch+1], ([[evaluate_loss(net, train_iter, loss).asnumpy()[0]],\n",
        "                                   [evaluate_loss(net, test_iter, loss).asnumpy()[0]]]))\n",
        "    print('L1 norm of w:', mx.nd.abs(net[0].weight.data()).sum())"
      ],
      "execution_count": 0,
      "outputs": []
    },
    {
      "cell_type": "markdown",
      "metadata": {
        "id": "ish8Y6rvG_C3",
        "colab_type": "text"
      },
      "source": [
        "Same trend without regularization. test performance cannot be improved"
      ]
    },
    {
      "cell_type": "code",
      "metadata": {
        "id": "_7wuc66FBrBd",
        "colab_type": "code",
        "colab": {
          "base_uri": "https://localhost:8080/",
          "height": 362
        },
        "outputId": "c79e3530-b7e0-4068-c189-c18128579151"
      },
      "source": [
        "train_gluon(0)\n"
      ],
      "execution_count": 93,
      "outputs": [
        {
          "output_type": "display_data",
          "data": {
            "image/png": "[encoded data removed]",
            "text/plain": [
              "<Figure size 432x288 with 1 Axes>"
            ]
          },
          "metadata": {
            "tags": []
          }
        },
        {
          "output_type": "display_data",
          "data": {
            "text/plain": [
              "<module 'matplotlib.pyplot' from '/usr/local/lib/python3.6/dist-packages/matplotlib/pyplot.py'>"
            ]
          },
          "metadata": {
            "tags": []
          }
        },
        {
          "output_type": "stream",
          "text": [
            "L1 norm of w: \n",
            "[142.7935]\n",
            "<NDArray 1 @cpu(0)>\n"
          ],
          "name": "stdout"
        }
      ]
    },
    {
      "cell_type": "markdown",
      "metadata": {
        "id": "cRy5ffB7HZGE",
        "colab_type": "text"
      },
      "source": [
        "### With weight decay the test performance can be improved to great extent and also closer to train performance"
      ]
    },
    {
      "cell_type": "code",
      "metadata": {
        "id": "OPhWq_FVBx8F",
        "colab_type": "code",
        "colab": {
          "base_uri": "https://localhost:8080/",
          "height": 362
        },
        "outputId": "9b5d8daa-2869-4ad6-f977-0a90a5f7b509"
      },
      "source": [
        "train_gluon(3)"
      ],
      "execution_count": 94,
      "outputs": [
        {
          "output_type": "display_data",
          "data": {
            "image/png": "[encoded data removed]",
            "text/plain": [
              "<Figure size 432x288 with 1 Axes>"
            ]
          },
          "metadata": {
            "tags": []
          }
        },
        {
          "output_type": "display_data",
          "data": {
            "text/plain": [
              "<module 'matplotlib.pyplot' from '/usr/local/lib/python3.6/dist-packages/matplotlib/pyplot.py'>"
            ]
          },
          "metadata": {
            "tags": []
          }
        },
        {
          "output_type": "stream",
          "text": [
            "L1 norm of w: \n",
            "[0.09557247]\n",
            "<NDArray 1 @cpu(0)>\n"
          ],
          "name": "stdout"
        }
      ]
    },
    {
      "cell_type": "code",
      "metadata": {
        "id": "dKI2vIOcCXYa",
        "colab_type": "code",
        "colab": {}
      },
      "source": [
        ""
      ],
      "execution_count": 0,
      "outputs": []
    }
  ]
}